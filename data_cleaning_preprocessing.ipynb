{
 "cells": [
  {
   "cell_type": "code",
   "execution_count": null,
   "id": "67096258-2fe5-429b-9ac1-0f67dc1efabf",
   "metadata": {},
   "outputs": [],
   "source": []
  }
 ],
 "metadata": {
  "kernelspec": {
   "display_name": "",
   "name": ""
  },
  "language_info": {
   "name": ""
  }
 },
 "nbformat": 4,
 "nbformat_minor": 5
}
