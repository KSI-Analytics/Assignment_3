{
 "cells": [
  {
   "cell_type": "code",
   "execution_count": null,
   "id": "146c2806-827a-4a86-bc7f-e56cf16cd861",
   "metadata": {},
   "outputs": [],
   "source": []
  }
 ],
 "metadata": {
  "kernelspec": {
   "display_name": "",
   "name": ""
  },
  "language_info": {
   "name": ""
  }
 },
 "nbformat": 4,
 "nbformat_minor": 5
}
