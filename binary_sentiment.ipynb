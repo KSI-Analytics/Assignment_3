{
 "cells": [
  {
   "cell_type": "markdown",
   "id": "4a709f09",
   "metadata": {},
   "source": [
    "Binary Sentiment (Logistic Regression) (Task 4)"
   ]
  },
  {
   "cell_type": "code",
   "execution_count": 52,
   "id": "29dc0d5b",
   "metadata": {},
   "outputs": [
    {
     "name": "stdout",
     "output_type": "stream",
     "text": [
      "   rating                       title_x  \\\n",
      "0     3.0                           Meh   \n",
      "1     5.0  Great all natural ear swabs!   \n",
      "\n",
      "                                                text  \\\n",
      "0  These were lightweight and soft but much too s...   \n",
      "1  I really like these ear swabs. First they come...   \n",
      "\n",
      "                                            images_x        asin parent_asin  \\\n",
      "0  [{'attachment_type': 'IMAGE', 'large_image_url...  B088SZDGXG  B08BBQ29N5   \n",
      "1                                                 []  B07KG1TWP5  B07KG1TWP5   \n",
      "\n",
      "                        user_id      timestamp  helpful_vote  \\\n",
      "0  AEYORY2AVPMCPDV57CE337YU5LXA  1634275259292             0   \n",
      "1  AFSKPY37N3C43SOI5IEXEK5JSIYA  1596473351088             0   \n",
      "\n",
      "   verified_purchase  ...                                             videos  \\\n",
      "0               True  ...  {'title': ['She loved them !', 'NEW FAUX 24 in...   \n",
      "1              False  ...            {'title': [], 'url': [], 'user_id': []}   \n",
      "\n",
      "      store  categories                                            details  \\\n",
      "0    Niseyo          []  {\"Brand\": \"Niseyo\", \"Extension Length\": \"24 In...   \n",
      "1  Bali Boo          []  {\"Is Discontinued By Manufacturer\": \"No\", \"Pac...   \n",
      "\n",
      "  bought_together subtitle  author     brand review_length  year  \n",
      "0             NaN      NaN     NaN    Niseyo            32  2021  \n",
      "1             NaN      NaN     NaN  Bali Boo            58  2020  \n",
      "\n",
      "[2 rows x 28 columns]\n",
      "\n",
      "\n"
     ]
    },
    {
     "name": "stderr",
     "output_type": "stream",
     "text": [
      "C:\\Users\\katoy\\AppData\\Local\\Temp\\ipykernel_13348\\4113809095.py:4: DtypeWarning: Columns (24) have mixed types. Specify dtype option on import or set low_memory=False.\n",
      "  data= pd.read_csv(\"cleaned_data.csv\")\n"
     ]
    }
   ],
   "source": [
    "import pandas as pd\n",
    "\n",
    "#Will have to change the file name for the single large dataset\n",
    "data= pd.read_csv(\"cleaned_data.csv\")\n",
    "\n",
    "#Testing if it read from the read_csv\n",
    "print(data.head(2))\n",
    "print(\"\\n\")\n"
   ]
  },
  {
   "cell_type": "markdown",
   "id": "232386da",
   "metadata": {},
   "source": [
    "Transform rating into:\n",
    "Positive if rating > 3, Negative if rating ≤ 3"
   ]
  },
  {
   "cell_type": "code",
   "execution_count": 53,
   "id": "00a8d128",
   "metadata": {},
   "outputs": [
    {
     "name": "stdout",
     "output_type": "stream",
     "text": [
      "(40499, 28) (10007, 28)\n"
     ]
    }
   ],
   "source": [
    "Positive = data[data[\"rating\"]>3]\n",
    "Negative = data[data[\"rating\"]<=3]\n",
    "print(Positive.shape, Negative.shape)"
   ]
  },
  {
   "cell_type": "code",
   "execution_count": 54,
   "id": "c05765d3",
   "metadata": {},
   "outputs": [
    {
     "name": "stdout",
     "output_type": "stream",
     "text": [
      "(10007, 28) (10007, 28)\n"
     ]
    }
   ],
   "source": [
    "#Imbalanced results thus \n",
    "\n",
    "Positive= Positive.head(Negative.shape[0])\n",
    "print(Positive.shape, Negative.shape)"
   ]
  },
  {
   "cell_type": "code",
   "execution_count": 55,
   "id": "e1d11fab",
   "metadata": {},
   "outputs": [
    {
     "name": "stdout",
     "output_type": "stream",
     "text": [
      "Rating Before Transformation\n",
      "0    3.0\n",
      "1    5.0\n",
      "2    5.0\n",
      "3    3.0\n",
      "4    5.0\n",
      "5    5.0\n",
      "6    5.0\n",
      "7    4.0\n",
      "8    4.0\n",
      "9    3.0\n",
      "Name: rating, dtype: float64\n",
      "\n",
      "\n",
      "Rating Before Transformation\n",
      "0    Negative\n",
      "1    Positive\n",
      "2    Positive\n",
      "3    Negative\n",
      "4    Positive\n",
      "5    Positive\n",
      "6    Positive\n",
      "7    Positive\n",
      "8    Positive\n",
      "9    Negative\n",
      "Name: rating, dtype: object\n",
      "\n",
      "\n"
     ]
    }
   ],
   "source": [
    "print(\"Rating Before Transformation\")\n",
    "print(data[\"rating\"].head(10))\n",
    "print(\"\\n\")\n",
    "\n",
    "data[\"rating\"] = data[\"rating\"].apply(lambda r: \"Positive\" if r > 3 else \"Negative\")\n",
    "\n",
    "print(\"Rating Before Transformation\")\n",
    "print(data[\"rating\"].head(10))\n",
    "print(\"\\n\")\n",
    "\n",
    "#Update the csv at source\n",
    "data.to_csv(\"cleaned_data.csv\", index= False)"
   ]
  },
  {
   "cell_type": "markdown",
   "id": "f4916d20",
   "metadata": {},
   "source": [
    "Part a. Train/Test Split: 80% train, 20% test, randomly shuffled.\n",
    "\n",
    "Using \"text\" and \"rating\" from the dataset to predict whether \"rating\" would be \"Positve\" or \"Negative\" based on the \"text\""
   ]
  },
  {
   "cell_type": "code",
   "execution_count": 56,
   "id": "be99fd3e",
   "metadata": {},
   "outputs": [
    {
     "name": "stdout",
     "output_type": "stream",
     "text": [
      "Total amount of data:  50506\n",
      "The amount of data in trained split:  40404\n",
      "The amount of data in test split:  10102\n",
      "Dataset before shuffle :  ['These were lightweight and soft but much too small for my liking. I would have preferred two of these together to make one loc. For that reason I will not be repurchasing.', \"I really like these ear swabs. First they come in a large, handy box and are easy to store (will last a long time). Second, they are all organic and good for the environment. Third, they are strong and don't fall apart very easily. I highly recommend these over Q-Tips (which I have used for years).\", 'To be honest, I rarely have used an overnight cream. Typically, my skin care routine is the same morning and night (wash, apply hyalauronic serum, and some kind of moistutrizer). So, when I saw this Iryasa cream I wanted to try it. Easy to apply, you can immediately feel the moisture starting to work. I do apply this about 30 minutes before I actually go to sleep to allow it time to be absorbed (before putting my face on my pillow) as it is a thicker type of cream and needs time. My skin in the morning feels better than ever. Soft and supple, I definitely feel a difference after using this for over 2 weeks now. I highly recommend this cream for women and men.', 'its OK  not as good as the  original Wet Brush  just a knock off', \"I purchased these to see if I could set my mom's hair.  She has fine, thin, short hair and I think these could be fun once in a while for a fluffy set.  Mom is 81.  These are super old school - hoping I can do it with a little foam styling product.\"]\n",
      "Dataset after shuffle :  ['As advertised', 'Thought this was for double albums.  First one was the Clash, and it was OK.  Second was a Black Sabbath single album I already owned.  Interested in seeing what #3 will be, was expecting \"classic rock and roll\"', 'I wish they published this magazine every month even though I don\\'t rate the magazine all that high..  The magazine has pretty heavy coverage on pickup trucks and skimpy coverage of crossovers and SUVs.  In their latest issue they did a \"best of\" SUV review but didn\\'t consider scores of popular SUV models in their ranking. For this they get two stars out of five.', \"As magazines go it's good. Some useful info and product suggestions for we mature women. good reading.\", 'As described']\n",
      "\n",
      "\n"
     ]
    }
   ],
   "source": [
    "from sklearn.model_selection import train_test_split\n",
    "\n",
    "X = data[\"text\"]\n",
    "y= data[\"rating\"]\n",
    "\n",
    "X_train, X_test, y_train, y_test = train_test_split(X, y, test_size=0.2, random_state= 10, shuffle= True) \n",
    "\n",
    "#Testing\n",
    "print(\"Total amount of data: \", len(X))\n",
    "print(\"The amount of data in trained split: \", len(X_train))\n",
    "print(\"The amount of data in test split: \", len(X_test))\n",
    "print(\"Dataset before shuffle : \", X.head(5).tolist())\n",
    "print(\"Dataset after shuffle : \", X_train.head(5).tolist())\n",
    "print(\"\\n\")\n"
   ]
  },
  {
   "cell_type": "markdown",
   "id": "acf6ab32",
   "metadata": {},
   "source": [
    "Part b. Text Vectorization: TF-IDF on review text (lowercase, split on whitespace/punctuation), discarding tokens in fewer than 5 reviews or in over 80% of reviews."
   ]
  },
  {
   "cell_type": "markdown",
   "id": "7d875ba4",
   "metadata": {},
   "source": [
    "Preprocessing the text: lowercase, split on whitespace/punctuation"
   ]
  },
  {
   "cell_type": "code",
   "execution_count": 57,
   "id": "0fd759e7",
   "metadata": {},
   "outputs": [
    {
     "name": "stdout",
     "output_type": "stream",
     "text": [
      "Before preprocessing the text\n",
      "0    These were lightweight and soft but much too s...\n",
      "1    I really like these ear swabs. First they come...\n",
      "Name: text, dtype: object\n",
      "\n",
      "\n",
      "After preprocessing the text\n",
      "0    [these, were, lightweight, and, soft, but, muc...\n",
      "1    [i, really, like, these, ear, swabs, first, th...\n",
      "Name: text, dtype: object\n",
      "\n",
      "\n"
     ]
    }
   ],
   "source": [
    "import re\n",
    "\n",
    "print(\"Before preprocessing the text\")\n",
    "print(data[\"text\"].head(2))\n",
    "print(\"\\n\")\n",
    "\n",
    "data[\"text\"]= data[\"text\"].apply(lambda word: re.findall(r'\\b\\w+\\b', str(word).lower()))\n",
    "\n",
    "print(\"After preprocessing the text\")\n",
    "print(data[\"text\"].head(2))\n",
    "print(\"\\n\")\n",
    "\n",
    "#Update the csv at source\n",
    "data.to_csv(\"cleaned_data.csv\", index= False)"
   ]
  },
  {
   "cell_type": "markdown",
   "id": "660b724f",
   "metadata": {},
   "source": [
    "TF-IDF on review text, discarding tokens in fewer than 5 reviews or in over 80% of reviews.\n"
   ]
  },
  {
   "cell_type": "code",
   "execution_count": 58,
   "id": "35f7196f",
   "metadata": {},
   "outputs": [
    {
     "name": "stdout",
     "output_type": "stream",
     "text": [
      "X_train_tf_idf (40404, 10420)\n",
      "X_test_tf_idf (10102, 10420)\n"
     ]
    }
   ],
   "source": [
    "from sklearn.feature_extraction.text import TfidfVectorizer\n",
    "\n",
    "tf_idf = TfidfVectorizer(min_df=5, max_df=0.8)\n",
    "\n",
    "#for missing values\n",
    "X_train= X_train.fillna(\"\")\n",
    "X_test= X_test.fillna(\"\")\n",
    "\n",
    "X_train_tf_idf = tf_idf.fit_transform(X_train)\n",
    "X_test_tf_idf = tf_idf.transform(X_test)\n",
    "\n",
    "print(\"X_train_tf_idf\", X_train_tf_idf.shape)\n",
    "print(\"X_test_tf_idf\", X_test_tf_idf.shape)"
   ]
  },
  {
   "cell_type": "markdown",
   "id": "6488e34f",
   "metadata": {},
   "source": [
    "Part c. Classifier: Logistic Regression (default hyperparameters)."
   ]
  },
  {
   "cell_type": "code",
   "execution_count": 59,
   "id": "450d650c",
   "metadata": {},
   "outputs": [
    {
     "name": "stdout",
     "output_type": "stream",
     "text": [
      "Review: My Doxie loved her gift,perfect for her birthday.\n",
      "Predictions: Positive\n",
      "\n",
      "\n",
      "Review: Got it as we are avid &#34;Law & Order&#34; (original series) fans and this only leaves the last three years to have the complete series.\n",
      "Predictions: Positive\n",
      "\n",
      "\n",
      "Review: Hubby loves these\n",
      "Predictions: Positive\n",
      "\n",
      "\n",
      "Review: Leaked from the gauge face out of the box.\n",
      "Predictions: Positive\n",
      "\n",
      "\n",
      "Review: Wonderful resource for finding out about new books, special author section every edtion, & book club choices.\n",
      "Predictions: Positive\n",
      "\n",
      "\n"
     ]
    }
   ],
   "source": [
    "from sklearn.linear_model import LogisticRegression\n",
    "\n",
    "model= LogisticRegression()\n",
    "\n",
    "model.fit(X_train_tf_idf, y_train)\n",
    "prediction = model.predict(X_test_tf_idf)\n",
    "\n",
    "for p in range(5):\n",
    "    print(f\"Review: {X_test.iloc[p]}\")\n",
    "    print(f\"Predictions: {prediction[p]}\")\n",
    "    print(\"\\n\")"
   ]
  },
  {
   "cell_type": "markdown",
   "id": "7991c01d",
   "metadata": {},
   "source": [
    "Evaluation: Accuracy, F1 Score and Confusion Matrix (2×2: TP, FP, TN, FN)"
   ]
  },
  {
   "cell_type": "code",
   "execution_count": 60,
   "id": "b1b0df4f",
   "metadata": {},
   "outputs": [
    {
     "name": "stdout",
     "output_type": "stream",
     "text": [
      "Accuracy:  0.88873490397941\n",
      "F1 Score:  0.9323950439071335\n",
      "Confusion Matrix: \n"
     ]
    },
    {
     "data": {
      "text/plain": [
       "<sklearn.metrics._plot.confusion_matrix.ConfusionMatrixDisplay at 0x2ba11c74710>"
      ]
     },
     "execution_count": 60,
     "metadata": {},
     "output_type": "execute_result"
    },
    {
     "data": {
      "image/png": "[encoded data removed]",
      "text/plain": [
       "<Figure size 640x480 with 2 Axes>"
      ]
     },
     "metadata": {},
     "output_type": "display_data"
    }
   ],
   "source": [
    "from sklearn.metrics import accuracy_score, f1_score, confusion_matrix, ConfusionMatrixDisplay\n",
    "\n",
    "#Accuracy\n",
    "accuracy = accuracy_score(y_test, prediction)\n",
    "print(\"Accuracy: \", accuracy)\n",
    "\n",
    "#F1 Score\n",
    "f1_score=f1_score(y_test, prediction, pos_label=\"Positive\")\n",
    "print(\"F1 Score: \", f1_score)\n",
    "\n",
    "#Confusion Matrix\n",
    "confusion_matrix = confusion_matrix(y_test, prediction, labels=[\"Positive\",\"Negative\"])\n",
    "#print(\"Confusion Matrix: \", confusion_matrix)\n",
    "\n",
    "print(\"Confusion Matrix: \")\n",
    "confusion_matrix_display = ConfusionMatrixDisplay(confusion_matrix=confusion_matrix, display_labels=[\"Positive\",\"Negative\"])\n",
    "confusion_matrix_display.plot()"
   ]
  }
 ],
 "metadata": {
  "kernelspec": {
   "display_name": "Python [conda env:base] *",
   "language": "python",
   "name": "conda-base-py"
  },
  "language_info": {
   "codemirror_mode": {
    "name": "ipython",
    "version": 3
   },
   "file_extension": ".py",
   "mimetype": "text/x-python",
   "name": "python",
   "nbconvert_exporter": "python",
   "pygments_lexer": "ipython3",
   "version": "3.12.7"
  }
 },
 "nbformat": 4,
 "nbformat_minor": 5
}
