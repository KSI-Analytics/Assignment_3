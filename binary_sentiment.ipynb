{
 "cells": [
  {
   "cell_type": "markdown",
   "id": "4a709f09",
   "metadata": {},
   "source": [
    "Binary Sentiment (Logistic Regression) (Task 4)\n",
    "\n",
    "Note: User will have to upload the csv to their jupyter"
   ]
  },
  {
   "cell_type": "code",
   "execution_count": null,
   "id": "29dc0d5b",
   "metadata": {},
   "outputs": [
    {
     "name": "stdout",
     "output_type": "stream",
     "text": [
      "   rating                                    title_x  \\\n",
      "0     5.0  Such a lovely scent but not overpowering.   \n",
      "1     4.0     Works great but smells a little weird.   \n",
      "\n",
      "                                                text images_x        asin  \\\n",
      "0  This spray is really nice. It smells really go...       []  B00YQ6X8EO   \n",
      "1  This product does what I need it to do, I just...       []  B081TJ8YS3   \n",
      "\n",
      "  parent_asin                       user_id      timestamp  helpful_vote  \\\n",
      "0  B00YQ6X8EO  AGKHLEW2SOWHNMFQIJGBECAF7INQ  1588687728923             0   \n",
      "1  B081TJ8YS3  AGKHLEW2SOWHNMFQIJGBECAF7INQ  1588615855070             1   \n",
      "\n",
      "   verified_purchase  ...                                             videos  \\\n",
      "0               True  ...  {'title': array(['Best Hair Product For Summer...   \n",
      "1               True  ...  {'title': array(['Easy to apply!'], dtype=obje...   \n",
      "\n",
      "                  store  categories  \\\n",
      "0             HERBIVORE          []   \n",
      "1  Two Goats Apothecary          []   \n",
      "\n",
      "                                             details bought_together subtitle  \\\n",
      "0  {\"Hair Type\": \"Wavy\", \"Material Type Free\": \"D...             NaN      NaN   \n",
      "1  {\"Brand\": \"Two Goats Apothecary\", \"Item Form\":...             NaN      NaN   \n",
      "\n",
      "   author                 brand review_length  year  \n",
      "0     NaN             HERBIVORE            62  2020  \n",
      "1     NaN  Two Goats Apothecary            47  2020  \n",
      "\n",
      "[2 rows x 28 columns]\n",
      "\n",
      "\n"
     ]
    }
   ],
   "source": [
    "import pandas as pd\n",
    "\n",
    "#Will have to change the file name for the single large dataset\n",
    "data= pd.read_csv(\"cleaned_data.csv\")\n",
    "\n",
    "#Testing if it read from the read_csv\n",
    "print(data.head(2))\n",
    "print(\"\\n\")\n"
   ]
  },
  {
   "cell_type": "markdown",
   "id": "232386da",
   "metadata": {},
   "source": [
    "Transform rating into:\n",
    "Positive if rating > 3, Negative if rating ≤ 3"
   ]
  },
  {
   "cell_type": "code",
   "execution_count": 15,
   "id": "00a8d128",
   "metadata": {},
   "outputs": [
    {
     "name": "stdout",
     "output_type": "stream",
     "text": [
      "(149208, 28) (53647, 28)\n"
     ]
    }
   ],
   "source": [
    "Positive = data[data[\"rating\"]>3]\n",
    "Negative = data[data[\"rating\"]<=3]\n",
    "print(Positive.shape, Negative.shape)"
   ]
  },
  {
   "cell_type": "code",
   "execution_count": 16,
   "id": "c05765d3",
   "metadata": {},
   "outputs": [
    {
     "name": "stdout",
     "output_type": "stream",
     "text": [
      "(53647, 28) (53647, 28)\n"
     ]
    }
   ],
   "source": [
    "#Imbalanced results thus \n",
    "\n",
    "Positive= Positive.head(Negative.shape[0])\n",
    "print(Positive.shape, Negative.shape)"
   ]
  },
  {
   "cell_type": "code",
   "execution_count": null,
   "id": "e1d11fab",
   "metadata": {},
   "outputs": [
    {
     "name": "stdout",
     "output_type": "stream",
     "text": [
      "Rating Before Transformation\n",
      "0    5.0\n",
      "1    4.0\n",
      "2    5.0\n",
      "3    1.0\n",
      "4    5.0\n",
      "5    4.0\n",
      "6    5.0\n",
      "7    3.0\n",
      "8    5.0\n",
      "9    5.0\n",
      "Name: rating, dtype: float64\n",
      "Rating Before Transformation\n",
      "0    Positive\n",
      "1    Positive\n",
      "2    Positive\n",
      "3    Negative\n",
      "4    Positive\n",
      "5    Positive\n",
      "6    Positive\n",
      "7    Negative\n",
      "8    Positive\n",
      "9    Positive\n",
      "Name: rating, dtype: object\n"
     ]
    }
   ],
   "source": [
    "print(\"Rating Before Transformation\")\n",
    "print(data[\"rating\"].head(10))\n",
    "print(\"\\n\")\n",
    "\n",
    "data[\"rating\"] = data[\"rating\"].apply(lambda r: \"Positive\" if r > 3 else \"Negative\")\n",
    "\n",
    "print(\"Rating Before Transformation\")\n",
    "print(data[\"rating\"].head(10))\n",
    "print(\"\\n\")\n",
    "\n",
    "#Update the csv at source\n",
    "data.to_csv(\"cleaned_data.csv\", index= False)"
   ]
  },
  {
   "cell_type": "markdown",
   "id": "f4916d20",
   "metadata": {},
   "source": [
    "Part a. Train/Test Split: 80% train, 20% test, randomly shuffled.\n",
    "\n",
    "Using \"text\" and \"rating\" from the dataset to predict whether \"rating\" would be \"Positve\" or \"Negative\" based on the \"text\""
   ]
  },
  {
   "cell_type": "code",
   "execution_count": null,
   "id": "be99fd3e",
   "metadata": {},
   "outputs": [
    {
     "name": "stdout",
     "output_type": "stream",
     "text": [
      "Total amount of data:  202855\n",
      "The amount of data in trained split:  162284\n",
      "The amount of data in test split:  40571\n",
      "Dataset before shuffle :  [\"This spray is really nice. It smells really good, goes on really fine, and does the trick. I will say it feels like you need a lot of it though to get the texture I want. I have a lot of hair, medium thickness. I am comparing to other brands with yucky chemicals so I'm gonna stick with this. Try it!\", 'This product does what I need it to do, I just wish it was odorless or had a soft coconut smell. Having my head smell like an orange coffee is offputting. (granted, I did know the smell was described but I was hoping it would be light)', 'Smells good, feels great!', 'Felt synthetic', 'Love it']\n",
      "Dataset after shuffle :  ['this is the third time ordering this product', 'great stuff.  i always buy bulk but its nice to find this in a pinch.  thanks amazon and spir zon', 'These are the same gel packs that were used at the Chronic pain recovery center I went to.  They are flexible even when frozen and stay really nice and cold for over an hour when in use.  I will be ordering more.', 'I use these for my heating products in my bathroom drawers.  They are also good for travel', \"It worked out great because this module has everything you need to easily replace the control board for the garage door opener.  Since it comes with the whole side panel, I just removed the light cover, then the bottom cover (2 screws and 2 plastic clips on the top), then remove 2 screws to get the side panel off and plug in the new board, the 3 control wires and you're ready to go.  The first one I ordered turned out to be defective where the controller was randomly opening and closing even when all learning codes were cleared but the replacement worked just fine.\"]\n"
     ]
    }
   ],
   "source": [
    "from sklearn.model_selection import train_test_split\n",
    "\n",
    "X = data[\"text\"]\n",
    "y= data[\"rating\"]\n",
    "\n",
    "X_train, X_test, y_train, y_test = train_test_split(X, y, test_size=0.2, random_state= 10, shuffle= True) \n",
    "\n",
    "#Testing\n",
    "print(\"Total amount of data: \", len(X))\n",
    "print(\"The amount of data in trained split: \", len(X_train))\n",
    "print(\"The amount of data in test split: \", len(X_test))\n",
    "print(\"Dataset before shuffle : \", X.head(5).tolist())\n",
    "print(\"Dataset after shuffle : \", X_train.head(5).tolist())\n",
    "print(\"\\n\")\n"
   ]
  },
  {
   "cell_type": "markdown",
   "id": "acf6ab32",
   "metadata": {},
   "source": [
    "Part b. Text Vectorization: TF-IDF on review text (lowercase, split on whitespace/punctuation), discarding tokens in fewer than 5 reviews or in over 80% of reviews."
   ]
  },
  {
   "cell_type": "markdown",
   "id": "7d875ba4",
   "metadata": {},
   "source": [
    "Preprocessing the text: lowercase, split on whitespace/punctuation"
   ]
  },
  {
   "cell_type": "code",
   "execution_count": null,
   "id": "0fd759e7",
   "metadata": {},
   "outputs": [],
   "source": [
    "import re\n",
    "\n",
    "print(\"Before preprocessing the text\")\n",
    "print(data[\"text\"].head(2))\n",
    "print(\"\\n\")\n",
    "\n",
    "data[\"text\"]= data[\"text\"].apply(lambda word: re.findall(r'\\b\\w+\\b', str(word).lower()))\n",
    "\n",
    "print(\"After preprocessing the text\")\n",
    "print(data[\"text\"].head(2))\n",
    "print(\"\\n\")\n",
    "\n",
    "#Update the csv at source\n",
    "data.to_csv(\"cleaned_data.csv\", index= False)"
   ]
  },
  {
   "cell_type": "markdown",
   "id": "660b724f",
   "metadata": {},
   "source": [
    "TF-IDF on review text, discarding tokens in fewer than 5 reviews or in over 80% of reviews.\n"
   ]
  },
  {
   "cell_type": "code",
   "execution_count": 23,
   "id": "35f7196f",
   "metadata": {},
   "outputs": [
    {
     "name": "stdout",
     "output_type": "stream",
     "text": [
      "X_train_tf_idf (162284, 14336)\n",
      "X_test_tf_idf (40571, 14336)\n"
     ]
    }
   ],
   "source": [
    "from sklearn.feature_extraction.text import TfidfVectorizer\n",
    "\n",
    "tf_idf = TfidfVectorizer(min_df=5, max_df=0.8)\n",
    "\n",
    "#for missing values\n",
    "X_train= X_train.fillna(\"\")\n",
    "X_test= X_test.fillna(\"\")\n",
    "\n",
    "X_train_tf_idf = tf_idf.fit_transform(X_train)\n",
    "X_test_tf_idf = tf_idf.transform(X_test)\n",
    "\n",
    "print(\"X_train_tf_idf\", X_train_tf_idf.shape)\n",
    "print(\"X_test_tf_idf\", X_test_tf_idf.shape)"
   ]
  }
 ],
 "metadata": {
  "kernelspec": {
   "display_name": "Python [conda env:base] *",
   "language": "python",
   "name": "conda-base-py"
  },
  "language_info": {
   "codemirror_mode": {
    "name": "ipython",
    "version": 3
   },
   "file_extension": ".py",
   "mimetype": "text/x-python",
   "name": "python",
   "nbconvert_exporter": "python",
   "pygments_lexer": "ipython3",
   "version": "3.12.7"
  }
 },
 "nbformat": 4,
 "nbformat_minor": 5
}
