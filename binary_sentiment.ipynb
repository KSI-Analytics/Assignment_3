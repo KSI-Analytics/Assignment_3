{
 "cells": [
  {
   "cell_type": "markdown",
   "id": "4a709f09",
   "metadata": {},
   "source": [
    "Binary Sentiment (Logistic Regression) (Task 4)\n",
    "\n",
    "Note: User will have to upload the csv to their jupyter"
   ]
  },
  {
   "cell_type": "code",
   "execution_count": 7,
   "id": "29dc0d5b",
   "metadata": {},
   "outputs": [],
   "source": [
    "import pandas as pd\n",
    "\n",
    "data= pd.read_csv(\"cleaned_data.csv\") #will have to change the file name for the single large dataset\n",
    "\n",
    "#Testing if it read from the read_csv\n",
    "#print(data.head(2))\n",
    "#print(\"\\n\")\n"
   ]
  },
  {
   "cell_type": "markdown",
   "id": "232386da",
   "metadata": {},
   "source": [
    "Transform rating into:\n",
    "Positive if rating > 3, Negative if rating ≤ 3"
   ]
  },
  {
   "cell_type": "code",
   "execution_count": 8,
   "id": "00a8d128",
   "metadata": {},
   "outputs": [],
   "source": [
    "#print(\"Rating Before Transformation\")\n",
    "#print(data[\"rating\"].head(10))\n",
    "\n",
    "data[\"rating\"] = data[\"rating\"].apply(lambda r: \"Positive\" if r > 3 else \"Negative\")\n",
    "\n",
    "#print(\"Rating Before Transformation\")\n",
    "#print(data[\"rating\"].head(10))\n",
    "\n",
    "#update the csv at source\n",
    "data.to_csv(\"cleaned_data.csv\", index= False)"
   ]
  },
  {
   "cell_type": "markdown",
   "id": "f4916d20",
   "metadata": {},
   "source": [
    "Part a. Train/Test Split: 80% train, 20% test, randomly shuffled.\n",
    "\n",
    "Using \"text\" and \"rating\" from the dataset to predict whether \"rating\" would be \"Positve\" or \"Negative\" based on the \"text\""
   ]
  },
  {
   "cell_type": "code",
   "execution_count": null,
   "id": "be99fd3e",
   "metadata": {},
   "outputs": [
    {
     "name": "stdout",
     "output_type": "stream",
     "text": [
      "Total amount of data:  202855\n",
      "The amount of data in trained split:  162284\n",
      "The amount of data in test split:  40571\n",
      "Dataset before shuffle :  [\"This spray is really nice. It smells really good, goes on really fine, and does the trick. I will say it feels like you need a lot of it though to get the texture I want. I have a lot of hair, medium thickness. I am comparing to other brands with yucky chemicals so I'm gonna stick with this. Try it!\", 'This product does what I need it to do, I just wish it was odorless or had a soft coconut smell. Having my head smell like an orange coffee is offputting. (granted, I did know the smell was described but I was hoping it would be light)', 'Smells good, feels great!', 'Felt synthetic', 'Love it']\n",
      "Dataset after shuffle :  ['this is the third time ordering this product', 'great stuff.  i always buy bulk but its nice to find this in a pinch.  thanks amazon and spir zon', 'These are the same gel packs that were used at the Chronic pain recovery center I went to.  They are flexible even when frozen and stay really nice and cold for over an hour when in use.  I will be ordering more.', 'I use these for my heating products in my bathroom drawers.  They are also good for travel', \"It worked out great because this module has everything you need to easily replace the control board for the garage door opener.  Since it comes with the whole side panel, I just removed the light cover, then the bottom cover (2 screws and 2 plastic clips on the top), then remove 2 screws to get the side panel off and plug in the new board, the 3 control wires and you're ready to go.  The first one I ordered turned out to be defective where the controller was randomly opening and closing even when all learning codes were cleared but the replacement worked just fine.\"]\n"
     ]
    }
   ],
   "source": [
    "from sklearn.model_selection import train_test_split\n",
    "\n",
    "X = data[\"text\"]\n",
    "y= data[\"rating\"]\n",
    "\n",
    "X_train, X_test, y_train, y_test = train_test_split(X, y, test_size=0.2, random_state= 10, shuffle= True) #not too sure of to keep \"random_state\" but it will make the evaluation results more consistent\n",
    "\n",
    "'''\n",
    "#Testing\n",
    "print(\"Total amount of data: \", len(X))\n",
    "print(\"The amount of data in trained split: \", len(X_train))\n",
    "print(\"The amount of data in test split: \", len(X_test))\n",
    "print(\"Dataset before shuffle : \", X.head(5).tolist())\n",
    "print(\"Dataset after shuffle : \", X_train.head(5).tolist())\n",
    "'''"
   ]
  }
 ],
 "metadata": {
  "kernelspec": {
   "display_name": "Python [conda env:base] *",
   "language": "python",
   "name": "conda-base-py"
  },
  "language_info": {
   "codemirror_mode": {
    "name": "ipython",
    "version": 3
   },
   "file_extension": ".py",
   "mimetype": "text/x-python",
   "name": "python",
   "nbconvert_exporter": "python",
   "pygments_lexer": "ipython3",
   "version": "3.12.7"
  }
 },
 "nbformat": 4,
 "nbformat_minor": 5
}
