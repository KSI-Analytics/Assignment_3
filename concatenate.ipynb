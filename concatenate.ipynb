{
 "cells": [
  {
   "cell_type": "code",
   "execution_count": null,
   "id": "5edf116c",
   "metadata": {},
   "outputs": [
    {
     "name": "stdout",
     "output_type": "stream",
     "text": [
      "   rating                                          title_x  \\\n",
      "0     1.0              Received damaged. Has hole in mold!   \n",
      "1     3.0                3rd one arrived scratched/dented.   \n",
      "2     1.0  Abominable. NOT COLOR SHIFT! False Advertising!   \n",
      "3     2.0                Used 2x in 6 weeks dry as a bone.   \n",
      "4     1.0               Replaced & still Defective stamps!   \n",
      "\n",
      "                                                text  \\\n",
      "0  [[VIDEOID:2a7ad2a91afb1e17ff4a1c143f7e10a2]] R...   \n",
      "1           3rd one that arrived damaged! I give up!   \n",
      "2  These are regular mica powders!  One appears t...   \n",
      "3  [[VIDEOID:8644a01103c90ab8f83af816b83881be]] L...   \n",
      "4  Lowered from a 3 star review to a 1 star bc th...   \n",
      "\n",
      "                                            images_x        asin parent_asin  \\\n",
      "0  [{'attachment_type': 'IMAGE', 'large_image_url...  B095RKB9N3  B095RXT585   \n",
      "1  [{'attachment_type': 'IMAGE', 'large_image_url...  B08PNNKNSQ  B07QXN7TMP   \n",
      "2  [{'attachment_type': 'IMAGE', 'large_image_url...  B094DH11SH  B094DH11SH   \n",
      "3  [{'attachment_type': 'IMAGE', 'large_image_url...  B089YSSFD6  B087D548ZY   \n",
      "4  [{'attachment_type': 'IMAGE', 'large_image_url...  B08Z47RG56  B08Z47RG56   \n",
      "\n",
      "                        user_id      timestamp  helpful_vote  \\\n",
      "0  AFKZENTNBQ7A7V7UXW5JJI6UGRYQ  1661111719157             0   \n",
      "1  AFKZENTNBQ7A7V7UXW5JJI6UGRYQ  1655614875170             0   \n",
      "2  AFKZENTNBQ7A7V7UXW5JJI6UGRYQ  1654510930828             0   \n",
      "3  AFKZENTNBQ7A7V7UXW5JJI6UGRYQ  1648170476726             0   \n",
      "4  AFKZENTNBQ7A7V7UXW5JJI6UGRYQ  1644619507972             1   \n",
      "\n",
      "   verified_purchase  ...                                             videos  \\\n",
      "0               True  ...  {'title': array(['Method of using pen mold',\\n...   \n",
      "1               True  ...  {'title': array([], dtype=object), 'url': arra...   \n",
      "2               True  ...  {'title': array([], dtype=object), 'url': arra...   \n",
      "3               True  ...  {'title': array(['Dizdkizd 20 Colors Craft Ink...   \n",
      "4               True  ...  {'title': array([], dtype=object), 'url': arra...   \n",
      "\n",
      "       store                                         categories  \\\n",
      "0  Tino Kino  ['Arts, Crafts & Sewing' 'Crafting' 'Sculpture...   \n",
      "1   qianshan  ['Arts, Crafts & Sewing' 'Painting, Drawing & ...   \n",
      "2       RIYA  ['Arts, Crafts & Sewing' 'Crafting' 'Soap Maki...   \n",
      "3   Dizdkizd  ['Arts, Crafts & Sewing' 'Scrapbooking & Stamp...   \n",
      "4    ZFPARTY  ['Arts, Crafts & Sewing' 'Scrapbooking & Stamp...   \n",
      "\n",
      "                                             details bought_together subtitle  \\\n",
      "0  {\"Package Dimensions\": \"5.04 x 4.65 x 1.77 inc...             NaN      NaN   \n",
      "1  {\"Material\": \"Plastic\", \"Color\": \"Silver With ...             NaN      NaN   \n",
      "2  {\"Product Dimensions\": \"5.08 x 3.5 x 0.39 inch...             NaN      NaN   \n",
      "3  {\"Package Dimensions\": \"8.15 x 3.43 x 1.06 inc...             NaN      NaN   \n",
      "4  {\"Package Dimensions\": \"5.79 x 4.02 x 0.31 inc...             NaN      NaN   \n",
      "\n",
      "  author      brand review_length  year  \n",
      "0    NaN  Tino Kino            37  2022  \n",
      "1    NaN   qianshan             8  2022  \n",
      "2    NaN       RIYA           256  2022  \n",
      "3    NaN   Dizdkizd           417  2022  \n",
      "4    NaN    ZFPARTY           585  2022  \n",
      "\n",
      "[5 rows x 28 columns]\n"
     ]
    }
   ],
   "source": [
    "import pandas as pd\n",
    "\n",
    "df1 = pd.read_csv(\"cleaned_data (1).csv\")\n",
    "df2 = pd.read_csv(\"cleaned_data (2).csv\")\n",
    "df3 = pd.read_csv(\"cleaned_data(3).csv\")\n",
    "\n",
    "combined_df = pd.concat([df1, df2, df3], ignore_index=True)\n",
    "\n",
    "combined_df.to_csv(\"combined_cleaned_data.csv\", index=False)\n",
    "\n",
    "print(combined_df.head())"
   ]
  },
  {
   "cell_type": "code",
   "execution_count": null,
   "id": "78650906",
   "metadata": {},
   "outputs": [],
   "source": []
  }
 ],
 "metadata": {
  "kernelspec": {
   "display_name": ".venv",
   "language": "python",
   "name": "python3"
  },
  "language_info": {
   "codemirror_mode": {
    "name": "ipython",
    "version": 3
   },
   "file_extension": ".py",
   "mimetype": "text/x-python",
   "name": "python",
   "nbconvert_exporter": "python",
   "pygments_lexer": "ipython3",
   "version": "3.9.10"
  }
 },
 "nbformat": 4,
 "nbformat_minor": 5
}
